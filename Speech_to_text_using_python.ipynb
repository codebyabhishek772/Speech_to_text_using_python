{
  "nbformat": 4,
  "nbformat_minor": 0,
  "metadata": {
    "colab": {
      "name": "Speech_to_text_using_python.ipynb",
      "provenance": [],
      "authorship_tag": "ABX9TyNZLx2Q9wOfNIfwy1r+8LJK",
      "include_colab_link": true
    },
    "kernelspec": {
      "name": "python3",
      "display_name": "Python 3"
    }
  },
  "cells": [
    {
      "cell_type": "markdown",
      "metadata": {
        "id": "view-in-github",
        "colab_type": "text"
      },
      "source": [
        "<a href=\"https://colab.research.google.com/github/codebyabhishek772/Speech_to_text_using_python/blob/master/Speech_to_text_using_python.ipynb\" target=\"_parent\"><img src=\"https://colab.research.google.com/assets/colab-badge.svg\" alt=\"Open In Colab\"/></a>"
      ]
    },
    {
      "cell_type": "code",
      "metadata": {
        "id": "_cV4AHtvRT1X",
        "colab_type": "code",
        "colab": {}
      },
      "source": [
        "import speech_recognition as sr\n",
        "import pyttsx3"
      ],
      "execution_count": null,
      "outputs": []
    },
    {
      "cell_type": "code",
      "metadata": {
        "id": "Q6ZUtIuXR4Vt",
        "colab_type": "code",
        "colab": {}
      },
      "source": [
        "def get():\n",
        "  r = sr.Recognizer\n",
        "  with sr.Microphone() as source:\n",
        "    print('say something to convert the speech into text ........!')\n",
        "    audio = r.listen(source)\n",
        "    print('done!...')\n",
        "\n",
        "  try: \n",
        "    text = r.recognize_google(audio)\n",
        "    print('you said'+text)\n",
        "  except Exception as e:\n",
        "    print e\n",
        "\n",
        "get()"
      ],
      "execution_count": null,
      "outputs": []
    }
  ]
}